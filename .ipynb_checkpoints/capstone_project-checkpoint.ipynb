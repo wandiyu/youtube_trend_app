{
 "cells": [
  {
   "cell_type": "markdown",
   "metadata": {},
   "source": [
    "# Trend of popular YouTube food videos"
   ]
  },
  {
   "cell_type": "markdown",
   "metadata": {},
   "source": [
    "***Target client:***\n",
    "\n",
    "YouTubers who want to check if their idea would be popular or examine if their titles are apealing enough.\n"
   ]
  },
  {
   "cell_type": "markdown",
   "metadata": {},
   "source": [
    "***Data:***\n",
    "\n",
    "* YouTube in past one year (top 50 videos every week) \n",
    "\n",
    "* ...\n"
   ]
  },
  {
   "cell_type": "markdown",
   "metadata": {},
   "source": [
    "***Goal:***\n",
    "\n",
    "* Heroku app \n",
    "\n",
    "* Input: \n",
    "    topics/keywords/title/description/\n",
    "\n",
    "* Return:  \n",
    "\n",
    "   1. trend of several keywords they provide \n",
    "\n",
    "   2. predict whether it will be popular "
   ]
  },
  {
   "cell_type": "code",
   "execution_count": 1,
   "metadata": {},
   "outputs": [],
   "source": [
    "import warnings\n",
    "warnings.filterwarnings('ignore')"
   ]
  },
  {
   "cell_type": "code",
   "execution_count": 2,
   "metadata": {},
   "outputs": [],
   "source": [
    "import requests\n",
    "import pandas as pd, numpy as np\n",
    "import datetime \n",
    "#from langdetect import detect\n",
    "from vaderSentiment.vaderSentiment import SentimentIntensityAnalyzer\n",
    "from googletrans import Translator\n",
    "from nltk.corpus import stopwords\n",
    "from nltk.stem import WordNetLemmatizer\n",
    "from nltk.tokenize import word_tokenize\n",
    "import re\n",
    "from sklearn import base\n",
    "import sklearn\n",
    "from nltk import pos_tag\n",
    "lemmatizer = WordNetLemmatizer() \n",
    "analyzer = SentimentIntensityAnalyzer()"
   ]
  },
  {
   "cell_type": "markdown",
   "metadata": {},
   "source": [
    "# get data"
   ]
  },
  {
   "cell_type": "code",
   "execution_count": 3,
   "metadata": {},
   "outputs": [],
   "source": [
    "# get top 50 videos according to viewCount, under the topic name 'food'\n",
    "# over a given time period\n",
    "def search(maxresult,t1,t2,key,q):      \n",
    "    r = requests.get(\n",
    "    \"https://www.googleapis.com/youtube/v3/search\",\n",
    "        params={'part':'snippet','topicId':'/m/02wbm',\n",
    "                'regionCode':'US','order':'viewCount',\n",
    "        'maxResults':maxresult,'publishedAfter':t1,'type':'video',\n",
    "                'publishedBefore':t2,'q':q,'key':key})\n",
    "    #return r.json()\n",
    "    x = [[item['id']['videoId'],item['snippet']['title'],\n",
    "        item['snippet']['description'],item['snippet']['publishTime'],\n",
    "            item['snippet']['channelTitle'],\n",
    "    item['snippet']['channelId']] for item in r.json()['items']]\n",
    "    content = pd.DataFrame(x,columns=['id','title','description',\n",
    "    'publishTime','channelTitle','channelId'],index=range(len(x)))\n",
    "    return content"
   ]
  },
  {
   "cell_type": "code",
   "execution_count": 4,
   "metadata": {},
   "outputs": [],
   "source": [
    "# get the statisitics of the video of knowing videoId\n",
    "def get_statistics(videoId,key):\n",
    "    r1 = requests.get(\n",
    "    \"https://www.googleapis.com/youtube/v3/videos\",\n",
    "            params={'part':'statistics','id':videoId,'key':key})\n",
    "    return r1.json()['items'][0]['statistics']"
   ]
  },
  {
   "cell_type": "code",
   "execution_count": 5,
   "metadata": {},
   "outputs": [],
   "source": [
    "# get top 50 comments from a video \n",
    "import time\n",
    "def get_comments(videoId,key):\n",
    "    comments = []\n",
    "    #print (videoId)\n",
    "    r2 = requests.get(\n",
    "    \"https://www.googleapis.com/youtube/v3/commentThreads\",\n",
    "            params={'part':'snippet','videoId':videoId,\n",
    "                'maxResults':50,'textFormat':'plainText','key':key})\n",
    "    \n",
    "    if str(r2.status_code)[0] == '2':\n",
    "        #print (r2.json(),videoId)\n",
    "        items = r2.json()['items']\n",
    "        for j in range(len(items)):\n",
    "            commenttext = items[j]['snippet']['topLevelComment']['snippet']['textOriginal']\n",
    "        #if re.match(r'[A-Za-z]+',commenttext):\n",
    "        #    print (commenttext)\n",
    "            #if detect(commenttext) == 'en':\n",
    "                \n",
    "            comments.append(commenttext)\n",
    "    return comments\n"
   ]
  },
  {
   "cell_type": "code",
   "execution_count": 6,
   "metadata": {},
   "outputs": [],
   "source": [
    "def get_channel_information(channelId,key):\n",
    "    r3 = requests.get(\n",
    "    \"https://www.googleapis.com/youtube/v3/channels\",\n",
    "            params={'part':'statistics','id':channelId,'key':key})\n",
    "    return r3.json()['items'][0]['statistics']"
   ]
  },
  {
   "cell_type": "code",
   "execution_count": 7,
   "metadata": {},
   "outputs": [],
   "source": [
    "# add comment and statistics to the data frame \n",
    "def add_comment_and_statistic(x,key):\n",
    "    viewCount, likeCount, dislikeCount, favoriteCount, commentCount = [],[],[],[],[]\n",
    "    comments = []\n",
    "    channel_viewCount, channel_commentCount, channel_subscriber,channel_videoCount = [],[],[],[]\n",
    "    for i in range(len(x)):\n",
    "        statistics = get_statistics(x['id'][i],key)\n",
    "        channel_statistics = get_channel_information(x['channelId'][i],key)\n",
    "        if ('commentCount' not in statistics) or statistics['commentCount']=='0':\n",
    "            comments.append([])\n",
    "        else:\n",
    "            comments.append(get_comments(x['id'][i],key))\n",
    "        viewCount.append(float(statistics.get('viewCount',np.nan)))\n",
    "        likeCount.append(float(statistics.get('likeCount',np.nan)))\n",
    "        dislikeCount.append(float(statistics.get('dislikeCount',np.nan)))\n",
    "        favoriteCount.append(float(statistics.get('favoriteCount',np.nan)))\n",
    "        commentCount.append(float(statistics.get('commentCount',np.nan)))\n",
    "        channel_viewCount.append(float(channel_statistics.get('viewCount',np.nan)))\n",
    "        channel_commentCount.append(float(channel_statistics.get('commentCount',np.nan)))\n",
    "        channel_subscriber.append(float(channel_statistics.get('subscriberCount',np.nan)))\n",
    "        channel_videoCount.append(float(channel_statistics.get('videoCount',np.nan)))\n",
    "        \n",
    "    x['viewCount'] = viewCount\n",
    "    x['likeCount'] = likeCount\n",
    "    x['dislikeCount'] = dislikeCount\n",
    "    x['favoriteCount'] = favoriteCount\n",
    "    x['commentCount'] = commentCount\n",
    "    x['comments'] = comments\n",
    "    x['channel_viewCount'] = channel_viewCount\n",
    "    x['channel_commentCount'] = channel_commentCount\n",
    "    x['channel_subscriber'] = channel_subscriber\n",
    "    x['channel_videoCount'] = channel_videoCount\n",
    "    \n",
    "    return x"
   ]
  },
  {
   "cell_type": "code",
   "execution_count": 8,
   "metadata": {},
   "outputs": [],
   "source": [
    "# turn datetime to RFC-3339 mode\n",
    "def RFC_3339(t):\n",
    "    return t.isoformat(\"T\") + \"Z\""
   ]
  },
  {
   "cell_type": "code",
   "execution_count": 9,
   "metadata": {},
   "outputs": [],
   "source": [
    "# search, add statistics and add comments \n",
    "def get_daily_youtube_data(x1,q,days,n):\n",
    "    try:\n",
    "        key\n",
    "    except NameError:\n",
    "        with open('app/youtube.nogit', 'r') as f:\n",
    "            key = f.read()\n",
    "    x2 = x1+datetime.timedelta(days=days)\n",
    "    x = search(n,RFC_3339(x1),RFC_3339(x2),key,q)\n",
    "    x = add_comment_and_statistic(x,key)\n",
    "    return x"
   ]
  },
  {
   "cell_type": "markdown",
   "metadata": {},
   "source": [
    "# process data"
   ]
  },
  {
   "cell_type": "code",
   "execution_count": 10,
   "metadata": {},
   "outputs": [],
   "source": [
    "def viewratio(x):\n",
    "    x['viewratio']=x['viewCount']/(x['channel_viewCount']/x['channel_videoCount'])\n",
    "    x['likeratio']=x['likeCount']/x['viewCount']"
   ]
  },
  {
   "cell_type": "code",
   "execution_count": 11,
   "metadata": {},
   "outputs": [],
   "source": [
    "def sentiment_study(x):\n",
    "    c = np.ones([len(x),50])*np.nan\n",
    "    for i in range(len(x)):\n",
    "        comments = x.comments[i]\n",
    "        for j in range(len(comments)):\n",
    "            c[i,j] =analyzer.polarity_scores(comments[j])['compound']\n",
    "    x['comment_sentiment'] = np.nanmean(c,axis=1)"
   ]
  },
  {
   "cell_type": "code",
   "execution_count": null,
   "metadata": {},
   "outputs": [],
   "source": [
    "cache = {}"
   ]
  },
  {
   "cell_type": "code",
   "execution_count": 52,
   "metadata": {},
   "outputs": [],
   "source": [
    "\n",
    "def translate(text):\n",
    "    time.sleep(1)\n",
    "    translator = Translator()\n",
    "    text = re.sub(r'&amp|&quot|http','',text)\n",
    "    \n",
    "    if text not in cache:\n",
    "        print (text)\n",
    "        cache[text] = translator.translate(text).text\n",
    "    return cache[text]\n",
    "    "
   ]
  },
  {
   "cell_type": "code",
   "execution_count": 13,
   "metadata": {},
   "outputs": [],
   "source": [
    "def trans_title_desp(x):\n",
    "    new_titles = []\n",
    "    for title in x['title']:\n",
    "        new_titles.append(translate(title))\n",
    "    x['title_trans'] = new_titles\n",
    "    new_description = []\n",
    "    for description in x['description']:\n",
    "        new_description.append(' ')\n",
    "    x['description_trans']=new_description"
   ]
  },
  {
   "cell_type": "code",
   "execution_count": 14,
   "metadata": {},
   "outputs": [],
   "source": [
    "def identify_keywords(string):\n",
    "    text = word_tokenize(string.lower())\n",
    "    kw = list(set([lemmatizer.lemmatize(a) for a,b in pos_tag(text) if b in ['NN','NNS']]))\n",
    "    kw = [k for k in kw if re.match(r'^\\w\\w+$',k)]\n",
    "    return kw"
   ]
  },
  {
   "cell_type": "code",
   "execution_count": 15,
   "metadata": {},
   "outputs": [],
   "source": [
    "def get_keywords(x):\n",
    "    title_trans = x['title_trans']\n",
    "    title_kw = []\n",
    "    for t in title_trans:\n",
    "        title_kw.append(identify_keywords(t))\n",
    "    description_trans = x['description_trans']\n",
    "    description_kw = []\n",
    "    for t in description_trans:\n",
    "        description_kw.append(identify_keywords(t))\n",
    "    x['title_kw'] = title_kw\n",
    "    x['description_kw'] = description_kw"
   ]
  },
  {
   "cell_type": "code",
   "execution_count": 16,
   "metadata": {},
   "outputs": [],
   "source": [
    "def bin_titles_into_kw(y):\n",
    "    j = 0\n",
    "    while len(y.title_kw[j]) == 0:\n",
    "        j += 1\n",
    "    z0 = pd.concat([y.iloc[j:j+1]]*len(y.title_kw[j]), ignore_index=True)\n",
    "    z0.insert(0,'kw',y.title_kw[j])\n",
    "    for i in range(j+1,len(y)):\n",
    "        if len(y.title_kw[i]):\n",
    "            z = pd.concat([y.iloc[i:i+1]]*len(y.title_kw[i]), ignore_index=True)\n",
    "            z.insert(0,'kw',y.title_kw[i])\n",
    "            z0 = z0.append(z,ignore_index=True)\n",
    "    return z0.drop(['title_kw','description_kw'],axis=1)"
   ]
  },
  {
   "cell_type": "code",
   "execution_count": 17,
   "metadata": {},
   "outputs": [],
   "source": [
    "def bin_desps_into_kw(y):\n",
    "    j = 0\n",
    "    while len(y.description_kw[j]) == 0:\n",
    "        j += 1\n",
    "    z0 = pd.concat([y.iloc[j:j+1]]*len(y.description_kw[j]), ignore_index=True)\n",
    "    z0.insert(0,'kw',y.description_kw[j])\n",
    "    for i in range(j+1,len(y)):\n",
    "        if len(y.description_kw[i]):\n",
    "            z = pd.concat([y.iloc[i:i+1]]*len(y.description_kw[i]), ignore_index=True)\n",
    "            z.insert(0,'kw',y.description_kw[i])\n",
    "            z0 = z0.append(z,ignore_index=True)\n",
    "    return z0.drop(['title_kw','description_kw'],axis=1)"
   ]
  },
  {
   "cell_type": "code",
   "execution_count": 18,
   "metadata": {},
   "outputs": [],
   "source": [
    "def process_daily_youtube_data(x1,x):\n",
    "    viewratio(x)\n",
    "    sentiment_study(x)\n",
    "    trans_title_desp(x)\n",
    "    get_keywords(x)\n",
    "    y = x[['id','publishTime','title_kw','description_kw','viewCount',\n",
    "           'likeCount','likeratio','viewratio','comment_sentiment',]]\n",
    "    return y\n"
   ]
  },
  {
   "cell_type": "code",
   "execution_count": 19,
   "metadata": {},
   "outputs": [],
   "source": [
    "def bin_into_kw_csv(y,x1):\n",
    "    z1 = bin_titles_into_kw(y)\n",
    "    z1.to_csv('app/data/YouTube_titles'+x1.strftime('%Y%m%d')+'.csv')\n",
    "    #z2 = bin_desps_into_kw(y)\n",
    "    #z2.to_csv('app/data/YouTube_desps'+x1.strftime('%Y%m%d')+'.csv')"
   ]
  },
  {
   "cell_type": "markdown",
   "metadata": {},
   "source": [
    "# run model "
   ]
  },
  {
   "cell_type": "code",
   "execution_count": 24,
   "metadata": {},
   "outputs": [],
   "source": [
    "def run_model(q,days,n):\n",
    "    x0 = datetime.datetime(2020,10,18)\n",
    "    while x0 <datetime.datetime.now()-datetime.timedelta(days=days):\n",
    "        print (x0)\n",
    "        x = get_daily_youtube_data(x0,q,days,n)\n",
    "        y = process_daily_youtube_data(x0,x)\n",
    "        bin_into_kw_csv(y,x0)\n",
    "        x0 = datetime.timedelta(days=days)+x0"
   ]
  },
  {
   "cell_type": "code",
   "execution_count": 55,
   "metadata": {},
   "outputs": [
    {
     "name": "stdout",
     "output_type": "stream",
     "text": [
      "2020-10-18 00:00:00\n",
      "BELA BELAIN BAJAK KICTHEN KAPAL!! DEMI MASAKIN SUAMI TERCINTA.\n",
      "MasterChef Türkiye 82. Bölüm Fragmanı | GÖZLERİNİZE İNANAMAYACAKSINIZ!\n",
      "魚のプロが『めずらしくて、めちゃうまい』と絶賛する　謎のデメキンを持ってきたのでさばいたら・・・・。\n",
      "MASTERCHEF BRASIL (20/10/2020) | PARTE 4 | EP 15 | TEMP 07\n",
      "Wendy and Emma Pretend Play Selling Ice Cream | Crazy Fruit Ice Creams for Kids\n"
     ]
    }
   ],
   "source": [
    "q = ('')\n",
    "run_model(q, 7, 50)"
   ]
  },
  {
   "cell_type": "markdown",
   "metadata": {},
   "source": [
    "# generate figures"
   ]
  },
  {
   "cell_type": "code",
   "execution_count": 56,
   "metadata": {},
   "outputs": [],
   "source": [
    "from glob import glob \n",
    "import matplotlib.pyplot as plt\n",
    "from wordcloud import WordCloud, STOPWORDS"
   ]
  },
  {
   "cell_type": "code",
   "execution_count": 57,
   "metadata": {},
   "outputs": [],
   "source": [
    "from nltk.corpus import wordnet as wn\n",
    "def identify_keywords(string):\n",
    "    text = word_tokenize(string.lower())\n",
    "    kw = list(set([lemmatizer.lemmatize(a) for a,b in pos_tag(text) if b in ['NN','NNS']]))\n",
    "    food = wn.synset('food.n.02')\n",
    "    food_list = list(set([w for s in food.closure(lambda s:s.hyponyms()) for w in s.lemma_names()]))\n",
    "    kw = [k for k in kw if re.match(r'^\\w\\w+$',k) and k in food_list]\n",
    "    return kw"
   ]
  },
  {
   "cell_type": "code",
   "execution_count": 58,
   "metadata": {},
   "outputs": [],
   "source": [
    "def window_mean(x, n):\n",
    "    x[np.isnan(x)] = 0\n",
    "    x[x>1e6] = 0\n",
    "    x1 = np.nanmean(np.array(x[:3]))\n",
    "    x2 = np.nanmean(np.array(x[:4]))\n",
    "    x_2 = np.nanmean(np.array(x[-4:]))\n",
    "    x_1 = np.nanmean(np.array(x[-3:]))\n",
    "    x_out =  [x1,x2]+[np.nanmean(np.array(x[i-n:i+n+1])) for i in range(n,len(x)-n)]+[x_2,x_1]\n",
    "    return x_out"
   ]
  },
  {
   "cell_type": "code",
   "execution_count": 59,
   "metadata": {},
   "outputs": [],
   "source": [
    "def get_kw_trend(kw):\n",
    "    #kw = input()\n",
    "    f = glob('app/data/YouTube_titles*.csv')\n",
    "    f.sort()\n",
    "    viewCount,likeCount,likeRatio,viewRatio,CommentSentiment = np.zeros(len(f)),np.zeros(len(f)),np.zeros(len(f)),np.zeros(len(f)),np.zeros(len(f))\n",
    "    for i,ff in enumerate(f):\n",
    "        f1 = pd.read_csv(ff)\n",
    "        likeRatio[i] = np.nanmean(f1.loc[f1.kw==kw]['likeCount'])/np.nanmean(f1.loc[f1.kw==kw]['viewCount'])\n",
    "        viewRatio[i] = np.nanmean(f1.loc[f1.kw==kw]['viewratio'])\n",
    "        CommentSentiment[i] = np.nanmean(f1.loc[f1.kw==kw]['comment_sentiment'])\n",
    "    viewRatio[np.isnan(viewRatio)] = 0\n",
    "    like = CommentSentiment*likeRatio\n",
    "    like[np.isnan(like)] = 0\n",
    "    return viewRatio,like"
   ]
  },
  {
   "cell_type": "code",
   "execution_count": null,
   "metadata": {},
   "outputs": [],
   "source": []
  },
  {
   "cell_type": "code",
   "execution_count": 60,
   "metadata": {},
   "outputs": [],
   "source": [
    "from statsmodels.tsa.arima.model import ARIMA\n",
    "def find_lowest_param(x):\n",
    "    params = [(i,j,k) for i in range(0,5) for j in range(0,1) for k in range(0,5)]\n",
    "    result = {}\n",
    "    for param in params:\n",
    "        mod = ARIMA(x[:-4], order=param)\n",
    "        res = mod.fit()\n",
    "        result[param] = sum([abs(x-y) for x,y in zip(res.predict(1,len(x1))[-4:], x1[-4:])])\n",
    "    return min(result.items(), key=lambda x:x[1])[0]\n",
    "    "
   ]
  },
  {
   "cell_type": "code",
   "execution_count": 61,
   "metadata": {},
   "outputs": [],
   "source": [
    "def test_model(kw):\n",
    "    x = get_kw_trend(kw)\n",
    "    if sum(x[0][-4:]) == 0:\n",
    "        return [],[],[],[]\n",
    "    x1 = x[0]\n",
    "    x2 = x[1]\n",
    "    x1 = interp(window_mean(x1,2),0)\n",
    "    x2 = interp(window_mean(x2,2),1)\n",
    "    mod = ARIMA(x1[:-4], order=find_lowest_param(x1))\n",
    "    res = mod.fit()\n",
    "    pred1 = res.predict(len(x1)-3,len(x1))\n",
    "    mod = ARIMA(x2[:-4], order=find_lowest_param(x2))\n",
    "    res = mod.fit()\n",
    "    pred2 = res.predict(len(x2)-3,len(x2))\n",
    "    return list(x1[-4:]),list(pred1),list(x2[-4:]),list(pred2)"
   ]
  },
  {
   "cell_type": "code",
   "execution_count": 62,
   "metadata": {},
   "outputs": [],
   "source": [
    "from sklearn import base\n",
    "class time_series(base.BaseEstimator,base.RegressorMixin):\n",
    "    def __init__(self, linear_est,non_linear_est,residual_est):\n",
    "        self.linear_est = linear_est\n",
    "        self.non_linear_est = non_linear_est\n",
    "        self.residual_est = residual_est\n",
    "    def fit(self,x,y):\n",
    "        self.x0 = x[0]\n",
    "        x_days = np.c_[(x - self.x0).days]\n",
    "        self.linear_est.fit(x_days,y)\n",
    "        residuals = y - self.linear_est.predict(x_days)\n",
    "        self.non_linear_est.fit(x,residuals)\n",
    "        residuals = residuals-self.non_linear_est.predict(x)\n",
    "        self.residual_est.fit(x,residuals)\n",
    "        return self\n",
    "    def predict(self,X):\n",
    "        X_days = np.c_[(X - self.x0).days]\n",
    "        return self.linear_est.predict(X_days)+\\\n",
    "            self.non_linear_est.predict(X)+self.residual_est.predict(X)\n",
    " "
   ]
  },
  {
   "cell_type": "code",
   "execution_count": 63,
   "metadata": {},
   "outputs": [],
   "source": [
    "# from sklearn import base\n",
    "# class time_series(base.BaseEstimator,base.RegressorMixin):\n",
    "#     def __init__(self, linear_est,cycle_est,residual_est):\n",
    "#         self.linear_est = linear_est\n",
    "#         self.cycle_est = cycle_est\n",
    "#         self.residual_est = residual_est\n",
    "#     def fit(self,t0,y):\n",
    "#         self.X = [t0+datetime.timedelta(i*7) for i in range(len(y))]\n",
    "#         self.linear_est.fit(self.X,y)\n",
    "#         residuals = y - self.linear_est.predict(self.X)\n",
    "#         self.cycle_est.fit(self.X,residuals)\n",
    "#         residuals2 = y - self.linear_est.predict(self.X) - self.cycle_est.predict(self.X)\n",
    "#         self.residual_est.fit(self.X,residuals2)\n",
    "#         return self\n",
    "#     def predict(self,X):\n",
    "#         return self.linear_est.predict(X)+self.cycle_est.predict(X)+self.residual_est.predict(X)\n",
    "    "
   ]
  },
  {
   "cell_type": "code",
   "execution_count": null,
   "metadata": {},
   "outputs": [],
   "source": []
  },
  {
   "cell_type": "code",
   "execution_count": 64,
   "metadata": {},
   "outputs": [],
   "source": [
    "class residual(base.BaseEstimator,base.RegressorMixin):\n",
    "    def fit(self,x,y):\n",
    "        y = [i[0] for i in y.values]\n",
    "        mod = ARIMA(y, order=(4,0,2))\n",
    "        self.res = mod.fit()\n",
    "        self.len = len(y)\n",
    "        return self\n",
    "    def predict(self,X):\n",
    "        y_out = self.res.predict(self.len+1, self.len+len(X))\n",
    "        return pd.DataFrame(y_out,index=X)"
   ]
  },
  {
   "cell_type": "code",
   "execution_count": 65,
   "metadata": {},
   "outputs": [],
   "source": [
    "from sklearn.linear_model import LinearRegression\n",
    "from sklearn.preprocessing import PolynomialFeatures\n",
    "class get_trend(base.BaseEstimator,base.RegressorMixin):\n",
    "    def fit(self,x,y):\n",
    "        self.f = LinearRegression()\n",
    "        self.f.fit(x,y)\n",
    "        return self\n",
    "    def predict(self,X):\n",
    "        return self.f.predict(x)"
   ]
  },
  {
   "cell_type": "code",
   "execution_count": 66,
   "metadata": {},
   "outputs": [],
   "source": [
    "def add_cycle(y,t):\n",
    "    var = pd.DataFrame({'var':y}, index=t)\n",
    "    var['Julian'] = var.index.to_julian_date()\n",
    "    var['const'] = 1\n",
    "    var['sin(mon)'] = np.sin(var['Julian'] / (365.25 /12) * 2 * np.pi)\n",
    "    var['cos(mon)'] = np.cos(var['Julian'] / (365.25 /12)* 2 * np.pi)\n",
    "    var['sin(3mo)'] = np.sin(var['Julian'] / (365.25 / 4) * 2 * np.pi)\n",
    "    var['cos(3mo)'] = np.cos(var['Julian'] / (365.25 / 4) * 2 * np.pi)\n",
    "    var['sin(yr)'] = np.sin(var['Julian'] / (365.25) * 2 * np.pi)\n",
    "    var['cos(yr)'] = np.cos(var['Julian'] / (365.25) * 2 * np.pi)\n",
    "    var['sin(6mon)'] = np.sin(var['Julian'] / (365.25 / 2) * 2 * np.pi)\n",
    "    var['cos(6mon)'] = np.cos(var['Julian'] / (365.25 / 2) * 2 * np.pi)\n",
    "    return var"
   ]
  },
  {
   "cell_type": "code",
   "execution_count": 67,
   "metadata": {},
   "outputs": [],
   "source": [
    "class get_seasonal(base.BaseEstimator,base.RegressorMixin):\n",
    "    def fit(self,t,y):\n",
    "        self.var = add_cycle([x[0] for x in y.values],t)\n",
    "        return self\n",
    "    def predict(self,t):\n",
    "        regress = sklearn.linear_model.LinearRegression().fit( \n",
    "        X=self.var[['sin(yr)', 'cos(yr)','sin(mon)', 'cos(mon)', 'sin(3mo)', 'cos(3mo)', 'sin(6mon)', 'cos(6mon)']], \n",
    "        y=self.var['var'])\n",
    "        var = add_cycle(np.ones(len(t)),t)\n",
    "        y_new = regress.predict(X=var[['sin(yr)', 'cos(yr)','sin(mon)', 'cos(mon)', 'sin(3mo)', 'cos(3mo)', 'sin(6mon)', 'cos(6mon)']] )\n",
    "        result = pd.DataFrame(y_new,index=t)\n",
    "        return result"
   ]
  },
  {
   "cell_type": "code",
   "execution_count": 157,
   "metadata": {},
   "outputs": [],
   "source": [
    "from scipy import interpolate\n",
    "def interp(x_new,key):\n",
    "    y = [np.array([ 0.12726368,  0.26699296,  0.37837867,  0.48737254,  0.54634302,\n",
    "        0.62071223,  0.80051461,  0.88242821,  0.9582498 ,  1.06622358,\n",
    "        1.2621425 ,  1.38800516,  1.54655086,  1.76763256,  1.94942345,\n",
    "        2.0615092 ,  2.26536604,  2.45091008,  2.71445578,  2.96758879,\n",
    "        3.49499457,  3.90562174,  4.60420182,  5.97595821,  8.02422907,\n",
    "       30.48433221]),\n",
    "        np.array([-0.00014885,  0.        ,  0.00067785,  0.00145082,  0.00209637,\n",
    "        0.00252489,  0.0029149 ,  0.00345558,  0.00391298,  0.00421178,\n",
    "        0.00447534,  0.00481274,  0.00512605,  0.00536608,  0.00576777,\n",
    "        0.00598555,  0.00615111,  0.00681535,  0.00723442,  0.00769467,\n",
    "        0.00820823,  0.00896463,  0.00962756,  0.01082877,  0.01288933,\n",
    "        0.02032245])]\n",
    "    x = np.arange(0,104,4)/25\n",
    "    f = interpolate.CubicSpline(y[key],x)\n",
    "    result = f(x_new)\n",
    "    result[result>4] = 4\n",
    "    result[result<0] = 0\n",
    "    return result\n",
    "    "
   ]
  },
  {
   "cell_type": "code",
   "execution_count": 129,
   "metadata": {},
   "outputs": [],
   "source": [
    "def add_prediction(x1,x2):\n",
    "    print (x1,x2)\n",
    "    star_fill = '<svg width=\"1em\" height=\"1em\" viewBox=\"0 0 16 16\" class=\"bi bi-star-fill\" fill=\"currentColor\" xmlns=\"http://www.w3.org/2000/svg\"><path d=\"M3.612 15.443c-.386.198-.824-.149-.746-.592l.83-4.73L.173 6.765c-.329-.314-.158-.888.283-.95l4.898-.696L7.538.792c.197-.39.73-.39.927 0l2.184 4.327 4.898.696c.441.062.612.636.283.95l-3.523 3.356.83 4.73c.078.443-.36.79-.746.592L8 13.187l-4.389 2.256z\"/></svg>'\n",
    "    star_half = '<svg width=\"1em\" height=\"1em\" viewBox=\"0 0 16 16\" class=\"bi bi-star-half\" fill=\"currentColor\" xmlns=\"http://www.w3.org/2000/svg\"> <path fill-rule=\"evenodd\" d=\"M5.354 5.119L7.538.792A.516.516 0 0 1 8 .5c.183 0 .366.097.465.292l2.184 4.327 4.898.696A.537.537 0 0 1 16 6.32a.55.55 0 0 1-.17.445l-3.523 3.356.83 4.73c.078.443-.36.79-.746.592L8 13.187l-4.389 2.256a.519.519 0 0 1-.146.05c-.341.06-.668-.254-.6-.642l.83-4.73L.173 6.765a.55.55 0 0 1-.171-.403.59.59 0 0 1 .084-.302.513.513 0 0 1 .37-.245l4.898-.696zM8 12.027c.08 0 .16.018.232.056l3.686 1.894-.694-3.957a.564.564 0 0 1 .163-.505l2.906-2.77-4.052-.576a.525.525 0 0 1-.393-.288L8.002 2.223 8 2.226v9.8z\"/> </svg>'\n",
    "    star = '<svg width=\"1em\" height=\"1em\" viewBox=\"0 0 16 16\" class=\"bi bi-star\" fill=\"currentColor\" xmlns=\"http://www.w3.org/2000/svg\"><path fill-rule=\"evenodd\" d=\"M2.866 14.85c-.078.444.36.791.746.593l4.39-2.256 4.389 2.256c.386.198.824-.149.746-.592l-.83-4.73 3.523-3.356c.329-.314.158-.888-.283-.95l-4.898-.696L8.465.792a.513.513 0 0 0-.927 0L5.354 5.12l-4.898.696c-.441.062-.612.636-.283.95l3.523 3.356-.83 4.73zm4.905-2.767l-3.686 1.894.694-3.957a.565.565 0 0 0-.163-.505L1.71 6.745l4.052-.576a.525.525 0 0 0 .393-.288l1.847-3.658 1.846 3.658a.525.525 0 0 0 .393.288l4.052.575-2.906 2.77a.564.564 0 0 0-.163.506l.694 3.957-3.686-1.894a.503.503 0 0 0-.461 0z\"/></svg>'\n",
    "    heart_fill = '<svg width=\"1em\" height=\"1em\" viewBox=\"0 0 16 16\" class=\"bi bi-heart-fill\" fill=\"currentColor\" xmlns=\"http://www.w3.org/2000/svg\"><path fill-rule=\"evenodd\" d=\"M8 1.314C12.438-3.248 23.534 4.735 8 15-7.534 4.736 3.562-3.248 8 1.314z\"/></svg>'\n",
    "    heart_half = '<svg width=\"1em\" height=\"1em\" viewBox=\"0 0 16 16\" class=\"bi bi-heart-half\" fill=\"currentColor\" xmlns=\"http://www.w3.org/2000/svg\"><path fill-rule=\"evenodd\" d=\"M8 1.314C3.562-3.248-7.534 4.735 8 15V1.314z\"/>  <path fill-rule=\"evenodd\" d=\"M8 2.748l-.717-.737C5.6.281 2.514.878 1.4 3.053c-.523 1.023-.641 2.5.314 4.385.92 1.815 2.834 3.989 6.286 6.357 3.452-2.368 5.365-4.542 6.286-6.357.955-1.886.838-3.362.314-4.385C13.486.878 10.4.28 8.717 2.01L8 2.748zM8 15C-7.333 4.868 3.279-3.04 7.824 1.143c.06.055.119.112.176.171a3.12 3.12 0 0 1 .176-.17C12.72-3.042 23.333 4.867 8 15z\"/></svg>'\n",
    "    heart = '<svg width=\"1em\" height=\"1em\" viewBox=\"0 0 16 16\" class=\"bi bi-heart\" fill=\"currentColor\" xmlns=\"http://www.w3.org/2000/svg\"> <path fill-rule=\"evenodd\" d=\"M8 2.748l-.717-.737C5.6.281 2.514.878 1.4 3.053c-.523 1.023-.641 2.5.314 4.385.92 1.815 2.834 3.989 6.286 6.357 3.452-2.368 5.365-4.542 6.286-6.357.955-1.886.838-3.362.314-4.385C13.486.878 10.4.28 8.717 2.01L8 2.748zM8 15C-7.333 4.868 3.279-3.04 7.824 1.143c.06.055.119.112.176.171a3.12 3.12 0 0 1 .176-.17C12.72-3.042 23.333 4.867 8 15z\"/></svg>'\n",
    "    \n",
    "    if x1-int(x1)>=0.5:\n",
    "        mid1 = star_half\n",
    "    else:\n",
    "        mid1 = star\n",
    "        \n",
    "    if x2-int(x2)>=0.5:\n",
    "        mid2 = heart_half\n",
    "    else:\n",
    "        mid2 = heart\n",
    "        \n",
    "    return star_fill*int(x1)+mid1+star*(5-1-int(x1)) + heart_fill*int(x2)+mid2+heart*(5-1-int(x2))\n",
    "    \n",
    "    "
   ]
  },
  {
   "cell_type": "code",
   "execution_count": 164,
   "metadata": {},
   "outputs": [],
   "source": [
    "from bokeh.plotting import figure, output_file, show\n",
    "from bokeh.embed import components\n",
    "from bokeh.resources import INLINE\n",
    "from bokeh.layouts import column\n",
    "from bokeh.models import Legend\n",
    "from bokeh.models import FuncTickFormatter\n",
    "def draw_tabs(kw,t0_new):\n",
    "    x = get_kw_trend(kw)\n",
    "    x2,xout = [],[]\n",
    "    t0 = datetime.datetime(2019,9,8)\n",
    "    t = pd.to_datetime([t0\\\n",
    "    +datetime.timedelta(days=7*(i)) for i in range(len(x[0]))])\n",
    "    x2.append(pd.DataFrame(interp(window_mean(x[0],2),0),index=t,\n",
    "                columns=['view']))\n",
    "    x2.append(pd.DataFrame(interp(window_mean(x[1],2),1),index=t,\n",
    "                columns=['like']))\n",
    "    t_1 = pd.to_datetime([t0_new+datetime.timedelta(days=7*(i))\\\n",
    "                    for i in range(4)])\n",
    "    for j in range(2):\n",
    "        f = time_series(LinearRegression(),get_seasonal(),residual())\n",
    "        f.fit(x2[j].index,x2[j])\n",
    "        xout.append(f.predict(t_1))\n",
    "    titles = ['Do people WATCH videos related to \"'+kw.upper()+'\"?',\n",
    "              'Do people LIKE videos related to \"'+kw.upper()+'\"?']\n",
    "    p = []\n",
    "    for i in range(2):\n",
    "        p.append(figure(title=titles[i], x_axis_label= 'x', y_axis_label='y',\n",
    "           x_axis_type=\"datetime\",plot_width=700, plot_height=250,y_range=(0,4)))\n",
    "        r1=p[i].line(t,[x[0] for x in x2[i].values], line_width = 2)\n",
    "        r2=p[i].line(np.append(t[-1:],t_1),np.append(x2[i].values[-1],xout[i]), \n",
    "            line_dash=(4, 4), line_color=\"red\", \n",
    "               line_width = 2)\n",
    "\n",
    "        r3=p[i].circle(t_1,[xx[0] for xx in xout[i].values],fill_color='red',size=5, line_color=\"red\")\n",
    "        p[i].xaxis.axis_label = 'Date'\n",
    "        p[i].yaxis.axis_label = 'Popularity'\n",
    "        legend = Legend(items=[\n",
    "        (\"History\"   , [r1]),\n",
    "        (\"Prediction\" , [r2,r3]),\n",
    "            ], location=\"center\")\n",
    "\n",
    "        p[i].add_layout(legend, 'right')\n",
    "        p[i].yaxis[0].ticker = list(range(5))\n",
    "        p[i].yaxis.formatter = FuncTickFormatter(code=\"\"\"\n",
    "        ticks = ['','Poor','Fair','Good','Excellent']\n",
    "        return ticks[tick]\n",
    "        \"\"\")\n",
    "    return column(p),xout"
   ]
  },
  {
   "cell_type": "code",
   "execution_count": 141,
   "metadata": {},
   "outputs": [
    {
     "data": {
      "text/plain": [
       "0.0"
      ]
     },
     "execution_count": 141,
     "metadata": {},
     "output_type": "execute_result"
    }
   ],
   "source": [
    "0/6*4"
   ]
  },
  {
   "cell_type": "code",
   "execution_count": 173,
   "metadata": {},
   "outputs": [],
   "source": [
    "kw = 'chocolate'\n",
    "t0_new = datetime.datetime(2020,10,25)\n",
    "for _ in range(1):\n",
    "    x = get_kw_trend(kw)\n",
    "    x2,xout = [],[]\n",
    "    t0 = datetime.datetime(2019,9,8)\n",
    "    t = pd.to_datetime([t0\\\n",
    "    +datetime.timedelta(days=7*(i)) for i in range(len(x[0]))])\n",
    "    x2.append(pd.DataFrame(interp(window_mean(x[0],2),0),index=t,\n",
    "                columns=['view']))\n",
    "    x2.append(pd.DataFrame(interp(window_mean(x[1],2),1),index=t,\n",
    "                columns=['like']))\n",
    "    t_1 = pd.to_datetime([t0_new+datetime.timedelta(days=7*(i))\\\n",
    "                    for i in range(4)])\n",
    "    for j in range(2):\n",
    "        f = time_series(LinearRegression(),get_seasonal(),residual())\n",
    "        f.fit(x2[j].index,x2[j])\n",
    "        xout.append(f.predict(t_1))\n",
    "    titles = ['Do people WATCH videos related to \"'+kw.upper()+'\"?',\n",
    "              'Do people LIKE videos related to \"'+kw.upper()+'\"?']\n",
    "    p = []\n",
    "    for i in range(2):\n",
    "        p.append(figure(title=titles[i], x_axis_label= 'x', y_axis_label='y',\n",
    "           x_axis_type=\"datetime\",plot_width=700, plot_height=250,y_range=(0,4)))\n",
    "        r1=p[i].line(t,[x[0] for x in x2[i].values], line_width = 2)\n",
    "        r2=p[i].line(np.append(t[-1:],t_1),np.append(x2[i].values[-1],xout[i]), \n",
    "            line_dash=(4, 4), line_color=\"red\", \n",
    "               line_width = 2)\n",
    "\n",
    "        r3=p[i].circle(t_1,[xx[0] for xx in xout[i].values],fill_color='red',size=5, line_color=\"red\")\n",
    "        p[i].xaxis.axis_label = 'Date'\n",
    "        p[i].yaxis.axis_label = 'Popularity'\n",
    "        legend = Legend(items=[\n",
    "        (\"History\"   , [r1]),\n",
    "        (\"Prediction\" , [r2,r3]),\n",
    "            ], location=\"center\")\n",
    "\n",
    "        p[i].add_layout(legend, 'right')\n",
    "        p[i].yaxis[0].ticker = list(range(5))\n",
    "        p[i].yaxis.formatter = FuncTickFormatter(code=\"\"\"\n",
    "        ticks = ['','Poor','Fair','Good','Excellent']\n",
    "        return ticks[tick]\n",
    "        \"\"\")\n",
    "    show(column(p))"
   ]
  },
  {
   "cell_type": "code",
   "execution_count": 163,
   "metadata": {},
   "outputs": [],
   "source": [
    "\n",
    "from bokeh.models import FuncTickFormatter\n",
    "from bokeh.plotting import figure, output_file, show\n",
    "\n",
    "output_file(\"formatter.html\")\n",
    "\n",
    "p = figure(plot_width=500, plot_height=500)\n",
    "p.circle([0, 2, 4, 6, 8, 10], [6, 2, 4, 10, 8, 0], size=30)\n",
    "\n",
    "p.xaxis.formatter = FuncTickFormatter(code=\"\"\"\n",
    "    ticks = ['a','b','c','d','e','f']\n",
    "    return ticks[tick]\n",
    "\"\"\")\n",
    "\n",
    "show(p)"
   ]
  },
  {
   "cell_type": "code",
   "execution_count": null,
   "metadata": {},
   "outputs": [],
   "source": []
  },
  {
   "cell_type": "code",
   "execution_count": 98,
   "metadata": {},
   "outputs": [],
   "source": [
    "def pick_week(t0,z):\n",
    "    time_series = [t0+datetime.timedelta(days=7*i) for i in range(4)]\n",
    "    sumz = np.zeros(4)\n",
    "    for i in range(len(z)):\n",
    "        sumz += [zz[0] for zz in (z[i][1][0]+z[i][1][1]).values]\n",
    "    argmax = np.argmax(sumz)\n",
    "    t1 = time_series[argmax].strftime('%Y-%m-%d')\n",
    "    t2 = (time_series[argmax]+datetime.timedelta(days=6)).strftime('%Y-%m-%d')\n",
    "    p1 = '<h4>The best time to publish: <h4>'\n",
    "    p2 = '<h4>'+t1+' to '+t2+'</h4>'\n",
    "    return p1+p2"
   ]
  },
  {
   "cell_type": "code",
   "execution_count": 101,
   "metadata": {},
   "outputs": [],
   "source": [
    "from bokeh.models.widgets import Panel\n",
    "from bokeh.models.widgets import Tabs\n",
    "def draw(tname):\n",
    "    t0 = datetime.datetime(2020,10,25)\n",
    "    kws = identify_keywords(tname)\n",
    "    if not len(kws):\n",
    "        return 'we do not detect any keywords related to food in your text'\n",
    "    p = [draw_tabs(kw,t0) for kw in kws]\n",
    "    tabs = [Panel(child=p[i][0], title=kws[i]) for i in range(len(kws))]\n",
    "    layout = Tabs(tabs=tabs)\n",
    "    script, div = components(layout)\n",
    "    kwargs = {'script': script, 'div': div}\n",
    "    kwargs['title'] = 'bokeh-with-flask'\n",
    "    content = '<h2> We detect {} keywords: </br> {} </h2> '.format(len(kws),', '.join(kws))\n",
    "    pred = add_prediction(np.mean([p[i][1][0].mean() for i in range(2)]), np.mean([p[i][1][1].mean() for i in range(2)]) )+ pick_week(t0,p)  \n",
    "    return div\n",
    "     "
   ]
  },
  {
   "cell_type": "code",
   "execution_count": 130,
   "metadata": {},
   "outputs": [
    {
     "name": "stdout",
     "output_type": "stream",
     "text": [
      "2.4331751591747297 1.513241124159578\n"
     ]
    },
    {
     "data": {
      "text/plain": [
       "'\\n<div class=\"bk-root\" id=\"277d0ad8-fb92-49b5-89c1-3a1201a46040\" data-root-id=\"8380\"></div>'"
      ]
     },
     "execution_count": 130,
     "metadata": {},
     "output_type": "execute_result"
    }
   ],
   "source": [
    "draw('chocolate cake')"
   ]
  },
  {
   "cell_type": "code",
   "execution_count": 134,
   "metadata": {},
   "outputs": [
    {
     "data": {
      "text/plain": [
       "0.8333333333333334"
      ]
     },
     "execution_count": 134,
     "metadata": {},
     "output_type": "execute_result"
    }
   ],
   "source": [
    "0.5*5/3"
   ]
  },
  {
   "cell_type": "code",
   "execution_count": 41,
   "metadata": {
    "scrolled": true
   },
   "outputs": [],
   "source": [
    "def test_model(kw):\n",
    "    t0_new = datetime.datetime(2020,9,20)\n",
    "    kinds = [3,4]\n",
    "    x = get_kw_trend(kw)\n",
    "    if sum(x[0][-4:])==0:\n",
    "        return [],[]\n",
    "    x2,xout = [],[]\n",
    "    t0 = datetime.datetime(2019,9,8)\n",
    "    x2.append(pd.DataFrame(interp(x[0],0),index=pd.to_datetime([t0\\\n",
    "    +datetime.timedelta(days=7*(i)) for i in range(len(x[0]))]),\n",
    "                columns=['view']))\n",
    "    x2.append(pd.DataFrame(interp(x[1],1),index=pd.to_datetime([t0\\\n",
    "    +datetime.timedelta(days=7*(i)) for i in range(len(x[0]))]),\n",
    "                columns=['like']))\n",
    "    tout = pd.to_datetime([t0_new+datetime.timedelta(days=7*(i))\\\n",
    "                    for i in range(4)])\n",
    "    for j in range(2):\n",
    "        f = time_series(LinearRegression(),get_seasonal(),residual())\n",
    "        f.fit(x2[j].index[:-4],x2[j][:-4])\n",
    "        prediction = f.predict(tout)\n",
    "        prediction[prediction>5] = 5\n",
    "        prediction[prediction<0] = 0\n",
    "        xout.append(prediction)\n",
    "    real = [x[0] for x in x2[0].values][-4:]+[x[0] for x in x2[1].values][-4:]\n",
    "    prediction = list(np.concatenate(xout))\n",
    "    return real,prediction"
   ]
  },
  {
   "cell_type": "code",
   "execution_count": null,
   "metadata": {},
   "outputs": [],
   "source": []
  },
  {
   "cell_type": "code",
   "execution_count": 42,
   "metadata": {},
   "outputs": [],
   "source": [
    "reals = []\n",
    "predictions = []\n",
    "for food in keywords_food:\n",
    "    real,prediction = test_model(food)\n",
    "    reals += real \n",
    "    predictions += prediction"
   ]
  },
  {
   "cell_type": "code",
   "execution_count": 43,
   "metadata": {},
   "outputs": [],
   "source": [
    "p1 = figure(title=\"Model performance\")\n",
    "p1.grid.grid_line_alpha=0.3\n",
    "p1.xaxis.axis_label = 'Real'\n",
    "p1.yaxis.axis_label = 'Prediction'\n",
    "p1.circle(reals,[xx[0] for xx in predictions],\n",
    "          line_color='royalblue',fill_color='royalblue')\n",
    "a,b = np.polyfit(reals,predictions,1)\n",
    "p1.line(np.arange(6), np.arange(6)*a+b,line_dash=(4, 4), \n",
    "        line_color=\"royalblue\",line_width=2)\n",
    "p1.legend.location = \"bottom_right\"\n",
    "from bokeh.models import Label\n",
    "mytext = Label(x=4, y=1, text='Pearson r= {r:.2f}'.format(r=np.corrcoef(reals,\n",
    "                [x[0] for x in predictions])[0][1]))\n",
    "p1.add_layout(mytext)\n",
    "#script, div = components(p1)\n",
    "show(p1 )"
   ]
  },
  {
   "cell_type": "code",
   "execution_count": 40,
   "metadata": {},
   "outputs": [],
   "source": [
    "with open('app/static/script.txt','w') as f:\n",
    "    f.write(script)"
   ]
  },
  {
   "cell_type": "code",
   "execution_count": 491,
   "metadata": {},
   "outputs": [],
   "source": [
    "f = open('app/static/div.txt','r')\n",
    "div = f.read()\n",
    "f.close()\n",
    "f = open('app/static/script.txt','r')\n",
    "script = f.read()\n",
    "f.close()"
   ]
  },
  {
   "cell_type": "code",
   "execution_count": 464,
   "metadata": {},
   "outputs": [
    {
     "data": {
      "text/plain": [
       "Text(3.2, 1, 'Pearson r= 0.39')"
      ]
     },
     "execution_count": 464,
     "metadata": {},
     "output_type": "execute_result"
    },
    {
     "data": {
      "image/png": "[encoded data removed]",
      "text/plain": [
       "<Figure size 432x360 with 1 Axes>"
      ]
     },
     "metadata": {
      "needs_background": "light"
     },
     "output_type": "display_data"
    }
   ],
   "source": [
    "plt.figure(figsize=[6,5])\n",
    "plt.plot(reals,predictions,'.',color='royalblue')\n",
    "a,b = np.polyfit(reals,predictions,1)\n",
    "plt.plot(np.arange(6), np.arange(6)*a+b,'--',color='royalblue')\n",
    "plt.xlabel('Real data',fontsize=14)\n",
    "plt.ylabel('Prediction',fontsize=14)\n",
    "plt.text(3.2,1,'Pearson r= {r:.2f}'.format(r=np.corrcoef(reals,\n",
    "                [x[0] for x in predictions])[0][1]),fontsize=14)\n",
    "\n",
    "plt.savefig('app/static/model_perfomance.jpeg')"
   ]
  },
  {
   "cell_type": "code",
   "execution_count": 442,
   "metadata": {},
   "outputs": [
    {
     "data": {
      "text/plain": [
       "-2.557403911060787"
      ]
     },
     "execution_count": 442,
     "metadata": {},
     "output_type": "execute_result"
    }
   ],
   "source": [
    "from sklearn.metrics import r2_score\n",
    "r2_score(reals,predictions)"
   ]
  },
  {
   "cell_type": "code",
   "execution_count": 451,
   "metadata": {},
   "outputs": [
    {
     "data": {
      "text/plain": [
       "(0.39484271732831167, 5.550020182568499e-14)"
      ]
     },
     "execution_count": 451,
     "metadata": {},
     "output_type": "execute_result"
    }
   ],
   "source": [
    "from scipy.stats import pearsonr\n",
    "pearsonr(reals,[x[0] for x in predictions])"
   ]
  },
  {
   "cell_type": "code",
   "execution_count": 233,
   "metadata": {},
   "outputs": [
    {
     "data": {
      "text/plain": [
       "(-0.3279013394525484, 6.561717325263085, -1.5316262091683308, 5.82769951632451)"
      ]
     },
     "execution_count": 233,
     "metadata": {},
     "output_type": "execute_result"
    },
    {
     "data": {
      "image/png": "[encoded data removed]",
      "text/plain": [
       "<Figure size 432x288 with 1 Axes>"
      ]
     },
     "metadata": {
      "needs_background": "light"
     },
     "output_type": "display_data"
    }
   ],
   "source": [
    "plt.plot(reals,predictions,'.',color='royalblue')\n",
    "a,b = np.polyfit(reals,predictions,1)\n",
    "plt.plot(np.arange(6), np.arange(6)*a+b,'--',color='royalblue')\n",
    "plt.ylabel('Real data',fontsize=14)\n",
    "plt.xlabel('Prediction',fontsize=14)\n",
    "plt.text(4.5,0.2,'Pearson r= {r:.2f}'.format(r=np.corrcoef(reals,\n",
    "                    predictions)[0][1]),fontsize=14)\n",
    "plt.axis('off')"
   ]
  },
  {
   "cell_type": "code",
   "execution_count": 28,
   "metadata": {},
   "outputs": [],
   "source": [
    "#kw = list(set([lemmatizer.lemmatize(a) for a,b in pos_tag(text) if b in ['NN','NNS']]))\n",
    "food = wn.synset('food.n.02')\n",
    "food_list = list(set([w for s in food.closure(lambda s:s.hyponyms()) for w in s.lemma_names()]))\n",
    "#kw = [k for k in kw if re.match(r'^\\w\\w+$',k) and k in food_list]"
   ]
  },
  {
   "cell_type": "code",
   "execution_count": 72,
   "metadata": {},
   "outputs": [],
   "source": [
    "def pick_week(t0,z):\n",
    "    time_series = [t0+datetime.timedelta(days=7*i) for i in range(4)]\n",
    "    from functools import reduce\n",
    "    if len(z) == 1:\n",
    "        sumz = z[0][1][0]+z[0][1][1]\n",
    "    else:\n",
    "        sumz = reduce(lambda x,y: x[1][0]+x[1][1]+y[1][0]+y[1][1], z)\n",
    "    argmax = np.argmax(sumz)\n",
    "    t1 = time_series[argmax].strftime('%Y-%m-%d')\n",
    "    t2 = (time_series[argmax]+datetime.timedelta(days=6)).strftime('%Y-%m-%d')\n",
    "    p1 = '<h3>The best time next month to publish this video is over the week: <h3>'\n",
    "    p2 = '<h3>'+t1+' to '+t2+'</h3>'\n",
    "    return p1+p2"
   ]
  },
  {
   "cell_type": "code",
   "execution_count": 14,
   "metadata": {},
   "outputs": [],
   "source": [
    "def interface(text):\n",
    "    #text = input()\n",
    "    kws = identify_keywords(text)\n",
    "    if not kws:\n",
    "        return ('please change a title related to FOOD')\n",
    "    else:\n",
    "        print ('We detect {} keywords:\\n'.format(len(kws)), *kws)\n",
    "        for kw in kws:\n",
    "            plt.figure(figsize=[6,4])\n",
    "            make_figure(kw,3,0)\n",
    "            make_figure(kw,4,1)\n",
    "            plt.tight_layout()"
   ]
  },
  {
   "cell_type": "code",
   "execution_count": null,
   "metadata": {},
   "outputs": [],
   "source": [
    "def select_box(kws):\n",
    "    head = '<div container> <form action = \"select\",method=\"get\"> <label for=\"nkw\">Choose a keyword:</label><br>  <select id=\"nkw\" name=\"nkw\">'\n",
    "    content = ' '.join(['<option value=\"{}\">{}</option>'.format(kw,kw) for kw in kws])\n",
    "    tail = '</select><input type=\"submit\"> </form> </div>'\n",
    "    return head+content+tail"
   ]
  },
  {
   "cell_type": "code",
   "execution_count": null,
   "metadata": {},
   "outputs": [],
   "source": [
    "identify_keywords(text)"
   ]
  },
  {
   "cell_type": "code",
   "execution_count": 29,
   "metadata": {},
   "outputs": [],
   "source": [
    "f = glob('app/data/YouTube_titles*.csv')\n",
    "f.sort()\n",
    "f1 = pd.read_csv(f[0])\n",
    "for i in range(1, len(f)):\n",
    "    f1 = f1.append(pd.read_csv(f[i]),ignore_index=True)"
   ]
  },
  {
   "cell_type": "code",
   "execution_count": 30,
   "metadata": {},
   "outputs": [],
   "source": [
    "kw_frequency = f1.groupby(by='kw').mean()['viewCount'].sort_values(ascending=False).to_dict()"
   ]
  },
  {
   "cell_type": "code",
   "execution_count": 31,
   "metadata": {},
   "outputs": [],
   "source": [
    "keywords = f1.groupby(by='kw').mean()['viewCount'].index.values"
   ]
  },
  {
   "cell_type": "code",
   "execution_count": 32,
   "metadata": {},
   "outputs": [],
   "source": [
    "keywords_food = [k for k in keywords if k in food_list]"
   ]
  },
  {
   "cell_type": "code",
   "execution_count": 214,
   "metadata": {},
   "outputs": [
    {
     "data": {
      "text/plain": [
       "['anchovy',\n",
       " 'apple',\n",
       " 'atole',\n",
       " 'aubergine',\n",
       " 'avocado',\n",
       " 'baba',\n",
       " 'bacon',\n",
       " 'bagel',\n",
       " 'baguette',\n",
       " 'baklava',\n",
       " 'banana',\n",
       " 'banger',\n",
       " 'bass',\n",
       " 'bean',\n",
       " 'beef',\n",
       " 'beignet',\n",
       " 'berry',\n",
       " 'bird',\n",
       " 'biscuit',\n",
       " 'blackberry',\n",
       " 'bleu',\n",
       " 'blueberry',\n",
       " 'bluefin',\n",
       " 'bologna',\n",
       " 'brain',\n",
       " 'bread',\n",
       " 'brioche',\n",
       " 'brisket',\n",
       " 'broccoli',\n",
       " 'brownie',\n",
       " 'bun',\n",
       " 'butter',\n",
       " 'cabbage',\n",
       " 'cake',\n",
       " 'carrot',\n",
       " 'cauliflower',\n",
       " 'caviar',\n",
       " 'cereal',\n",
       " 'challah',\n",
       " 'chapati',\n",
       " 'cheese',\n",
       " 'cheesecake',\n",
       " 'cherry',\n",
       " 'chicken',\n",
       " 'chickpea',\n",
       " 'chile',\n",
       " 'chili',\n",
       " 'chilli',\n",
       " 'chipotle',\n",
       " 'chocolate',\n",
       " 'chop',\n",
       " 'clam',\n",
       " 'cobbler',\n",
       " 'coconut',\n",
       " 'cod',\n",
       " 'cookie',\n",
       " 'cooky',\n",
       " 'crab',\n",
       " 'cracker',\n",
       " 'cranberry',\n",
       " 'crepe',\n",
       " 'croissant',\n",
       " 'cucumber',\n",
       " 'cupcake',\n",
       " 'cut',\n",
       " 'danish',\n",
       " 'date',\n",
       " 'dog',\n",
       " 'donut',\n",
       " 'doughnut',\n",
       " 'duck',\n",
       " 'dumpling',\n",
       " 'eater',\n",
       " 'eclair',\n",
       " 'eel',\n",
       " 'eggplant',\n",
       " 'fennel',\n",
       " 'filet',\n",
       " 'fillet',\n",
       " 'fish',\n",
       " 'flatbread',\n",
       " 'fritter',\n",
       " 'fryer',\n",
       " 'game',\n",
       " 'gem',\n",
       " 'genoise',\n",
       " 'ghee',\n",
       " 'gingerbread',\n",
       " 'gnocchi',\n",
       " 'gorgonzola',\n",
       " 'grape',\n",
       " 'guava',\n",
       " 'gumbo',\n",
       " 'hake',\n",
       " 'ham',\n",
       " 'hamburger',\n",
       " 'heart',\n",
       " 'jack',\n",
       " 'jerky',\n",
       " 'lamb',\n",
       " 'lasagna',\n",
       " 'lasagne',\n",
       " 'latke',\n",
       " 'leek',\n",
       " 'leg',\n",
       " 'lemon',\n",
       " 'lentil',\n",
       " 'lettuce',\n",
       " 'lime',\n",
       " 'linguine',\n",
       " 'liver',\n",
       " 'lobster',\n",
       " 'loin',\n",
       " 'macaroni',\n",
       " 'mackerel',\n",
       " 'mango',\n",
       " 'matzo',\n",
       " 'meat',\n",
       " 'meatloaf',\n",
       " 'mozzarella',\n",
       " 'muffin',\n",
       " 'mushroom',\n",
       " 'mussel',\n",
       " 'mustard',\n",
       " 'mutton',\n",
       " 'naan',\n",
       " 'noodle',\n",
       " 'okra',\n",
       " 'onion',\n",
       " 'orange',\n",
       " 'oyster',\n",
       " 'pancake',\n",
       " 'pasta',\n",
       " 'pastrami',\n",
       " 'pastry',\n",
       " 'pasty',\n",
       " 'patty',\n",
       " 'pea',\n",
       " 'peach',\n",
       " 'penne',\n",
       " 'pepper',\n",
       " 'pepperoni',\n",
       " 'perch',\n",
       " 'pie',\n",
       " 'pineapple',\n",
       " 'plate',\n",
       " 'plum',\n",
       " 'polenta',\n",
       " 'pomegranate',\n",
       " 'pork',\n",
       " 'potato',\n",
       " 'poultry',\n",
       " 'puff',\n",
       " 'pulse',\n",
       " 'pumpkin',\n",
       " 'quiche',\n",
       " 'rabbit',\n",
       " 'raisin',\n",
       " 'raspberry',\n",
       " 'ravioli',\n",
       " 'rib',\n",
       " 'ricotta',\n",
       " 'roast',\n",
       " 'roll',\n",
       " 'round',\n",
       " 'salami',\n",
       " 'salmon',\n",
       " 'sardine',\n",
       " 'sausage',\n",
       " 'savoy',\n",
       " 'scallion',\n",
       " 'seafood',\n",
       " 'shallot',\n",
       " 'shin',\n",
       " 'shortbread',\n",
       " 'shortcake',\n",
       " 'shoulder',\n",
       " 'shrimp',\n",
       " 'side',\n",
       " 'sirloin',\n",
       " 'snail',\n",
       " 'soy',\n",
       " 'soya',\n",
       " 'soybean',\n",
       " 'spaghetti',\n",
       " 'spinach',\n",
       " 'sprout',\n",
       " 'squid',\n",
       " 'steak',\n",
       " 'steamer',\n",
       " 'stick',\n",
       " 'strawberry',\n",
       " 'swordfish',\n",
       " 'takeaway',\n",
       " 'takeout',\n",
       " 'tart',\n",
       " 'tater',\n",
       " 'toast',\n",
       " 'tomato',\n",
       " 'tongue',\n",
       " 'tortilla',\n",
       " 'tostada',\n",
       " 'truffle',\n",
       " 'tuna',\n",
       " 'turkey',\n",
       " 'veg',\n",
       " 'vegetable',\n",
       " 'veggie',\n",
       " 'vermicelli',\n",
       " 'waffle',\n",
       " 'watermelon',\n",
       " 'wiener',\n",
       " 'yoghurt',\n",
       " 'yogurt',\n",
       " 'zucchini']"
      ]
     },
     "execution_count": 214,
     "metadata": {},
     "output_type": "execute_result"
    }
   ],
   "source": [
    "keywords_food"
   ]
  },
  {
   "cell_type": "code",
   "execution_count": 158,
   "metadata": {},
   "outputs": [],
   "source": [
    "kws = {}\n",
    "for i in range(len(keywords_food)):\n",
    "    ratio = get_kw_trend(keywords_food[i])\n",
    "    ratio = [np.nanmean(r) for r in ratio]\n",
    "    kws[keywords_food[i]] = ratio"
   ]
  },
  {
   "cell_type": "code",
   "execution_count": 159,
   "metadata": {},
   "outputs": [],
   "source": [
    "kw = pd.DataFrame(kws,index=list(range(5)))"
   ]
  },
  {
   "cell_type": "code",
   "execution_count": 171,
   "metadata": {},
   "outputs": [],
   "source": [
    "x, y = np.zeros(100),np.zeros(100)\n",
    "for i in [3]:\n",
    "    x = kw.loc[i].values\n",
    "    x[np.isnan(x)] = 0\n",
    "    y1 = np.array([np.percentile(x,(j)*4) for j in range(26)])\n",
    "for i in [4]:\n",
    "    x = kw.loc[i].values*kw.loc[2].values\n",
    "    x[np.isnan(x)] = 0\n",
    "    y2 = np.array([np.percentile(x,(j)*4) for j in range(26)])"
   ]
  },
  {
   "cell_type": "code",
   "execution_count": 172,
   "metadata": {},
   "outputs": [
    {
     "data": {
      "text/plain": [
       "array([ 0.12726368,  0.26699296,  0.37837867,  0.48737254,  0.54634302,\n",
       "        0.62071223,  0.80051461,  0.88242821,  0.9582498 ,  1.06622358,\n",
       "        1.2621425 ,  1.38800516,  1.54655086,  1.76763256,  1.94942345,\n",
       "        2.0615092 ,  2.26536604,  2.45091008,  2.71445578,  2.96758879,\n",
       "        3.49499457,  3.90562174,  4.60420182,  5.97595821,  8.02422907,\n",
       "       30.48433221])"
      ]
     },
     "execution_count": 172,
     "metadata": {},
     "output_type": "execute_result"
    }
   ],
   "source": [
    "y1"
   ]
  },
  {
   "cell_type": "code",
   "execution_count": 173,
   "metadata": {},
   "outputs": [
    {
     "data": {
      "text/plain": [
       "array([-0.00014885,  0.        ,  0.00067785,  0.00145082,  0.00209637,\n",
       "        0.00252489,  0.0029149 ,  0.00345558,  0.00391298,  0.00421178,\n",
       "        0.00447534,  0.00481274,  0.00512605,  0.00536608,  0.00576777,\n",
       "        0.00598555,  0.00615111,  0.00681535,  0.00723442,  0.00769467,\n",
       "        0.00820823,  0.00896463,  0.00962756,  0.01082877,  0.01288933,\n",
       "        0.02032245])"
      ]
     },
     "execution_count": 173,
     "metadata": {},
     "output_type": "execute_result"
    }
   ],
   "source": [
    "y2"
   ]
  },
  {
   "cell_type": "code",
   "execution_count": null,
   "metadata": {},
   "outputs": [],
   "source": []
  },
  {
   "cell_type": "code",
   "execution_count": null,
   "metadata": {},
   "outputs": [],
   "source": []
  },
  {
   "cell_type": "code",
   "execution_count": null,
   "metadata": {},
   "outputs": [],
   "source": []
  },
  {
   "cell_type": "code",
   "execution_count": 107,
   "metadata": {},
   "outputs": [],
   "source": [
    "def plot_word_cloud(all_texts):\n",
    "    # all_texts must be a string \n",
    "    covid_wc = WordCloud(\n",
    "        background_color='white',\n",
    "        max_words=100,\n",
    "        width=1000, height=500\n",
    "        )\n",
    "\n",
    "    # generate the word cloud\n",
    "    covid_wc.generate(all_texts)\n",
    "\n",
    "    # display the word cloud\n",
    "    plt.imshow(covid_wc, interpolation='bilinear')\n",
    "    plt.axis('off')"
   ]
  },
  {
   "cell_type": "code",
   "execution_count": null,
   "metadata": {},
   "outputs": [],
   "source": []
  },
  {
   "cell_type": "code",
   "execution_count": 108,
   "metadata": {},
   "outputs": [],
   "source": [
    "word_list = list(f1.kw.values)\n",
    "word_list = [i for i in word_list if i not in ['ep','part']]"
   ]
  },
  {
   "cell_type": "code",
   "execution_count": 109,
   "metadata": {},
   "outputs": [
    {
     "data": {
      "image/png": "[encoded data removed]",
      "text/plain": [
       "<Figure size 576x432 with 1 Axes>"
      ]
     },
     "metadata": {
      "needs_background": "light"
     },
     "output_type": "display_data"
    }
   ],
   "source": [
    "plt.figure(figsize=[8,6])\n",
    "plot_word_cloud(' '.join(word_list))"
   ]
  },
  {
   "cell_type": "code",
   "execution_count": null,
   "metadata": {},
   "outputs": [],
   "source": []
  }
 ],
 "metadata": {
  "kernelspec": {
   "display_name": "Python 3",
   "language": "python",
   "name": "python3"
  },
  "language_info": {
   "codemirror_mode": {
    "name": "ipython",
    "version": 3
   },
   "file_extension": ".py",
   "mimetype": "text/x-python",
   "name": "python",
   "nbconvert_exporter": "python",
   "pygments_lexer": "ipython3",
   "version": "3.8.3"
  }
 },
 "nbformat": 4,
 "nbformat_minor": 4
}
